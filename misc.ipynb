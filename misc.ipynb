{
 "cells": [
  {
   "cell_type": "code",
   "execution_count": 4,
   "metadata": {},
   "outputs": [],
   "source": [
    "import medmnist\n",
    "from medmnist import INFO\n",
    "import matplotlib.pyplot as plt\n",
    "import numpy as np\n",
    "import pandas as pd\n",
    "import os"
   ]
  },
  {
   "cell_type": "code",
   "execution_count": 5,
   "metadata": {},
   "outputs": [],
   "source": [
    "def Download_Datasets():\n",
    "    datasets = {\n",
    "        \"BreastMNIST\": 'breastmnist',\n",
    "        \"BloodMNIST\": 'bloodmnist'}\n",
    "    root = 'Datasets'\n",
    "    os.makedirs(root, exist_ok = True)\n",
    "\n",
    "    for f_name , d_name in datasets.items():\n",
    "        dir = os.path.join(root, f_name)\n",
    "        os.makedirs(dir, exist_ok = True)\n",
    "        print(f'Downloading {f_name} Dataset')\n",
    "        info = INFO[d_name]\n",
    "        DatasetClass = getattr(medmnist, info['python_class'])\n",
    "        _ = DatasetClass(root = dir, split = 'train', download = True)\n",
    "        _ = DatasetClass(root = dir, split = 'val', download = True)\n",
    "        _ = DatasetClass(root = dir, split = 'test', download = True)\n",
    "        print(f'Download Complete')"
   ]
  },
  {
   "cell_type": "code",
   "execution_count": 7,
   "metadata": {},
   "outputs": [
    {
     "name": "stdout",
     "output_type": "stream",
     "text": [
      "Downloading BreastMNIST Dataset\n",
      "Download Complete\n",
      "Downloading BloodMNIST Dataset\n",
      "Download Complete\n"
     ]
    }
   ],
   "source": [
    "Download_Datasets()"
   ]
  },
  {
   "cell_type": "code",
   "execution_count": null,
   "metadata": {},
   "outputs": [],
   "source": [
    "def Random_Sample_Visual(x,y,loader,name):\n",
    "    fig , axs = plt.subplots(x,y)\n",
    "    images, labels = next(iter(loader))\n",
    "    images, labels = next(iter(loader))\n",
    "    for i in range(x):\n",
    "        for j in range(y):\n",
    "            with torch.no_grad():\n",
    "                index = torch.randint(len(images) , size=(1,)).item()\n",
    "                img = images[index]\n",
    "                label = labels[index]\n",
    "                axs[i][j].imshow(((img+1)/2).squeeze().permute(1, 2, 0), cmap='binary')\n",
    "                axs[i][j].set_title(f'{label}')\n",
    "                axs[i][j].set_xticks([])\n",
    "                axs[i][j].set_yticks([])\n",
    "    plt.suptitle('Random Samples from Testing Data with Prediction')\n",
    "    fig.tight_layout()\n",
    "    dir = os.path.join('Results','name')\n",
    "    plt.savefig(dir)"
   ]
  }
 ],
 "metadata": {
  "kernelspec": {
   "display_name": "AMLS",
   "language": "python",
   "name": "python3"
  },
  "language_info": {
   "codemirror_mode": {
    "name": "ipython",
    "version": 3
   },
   "file_extension": ".py",
   "mimetype": "text/x-python",
   "name": "python",
   "nbconvert_exporter": "python",
   "pygments_lexer": "ipython3",
   "version": "3.11.13"
  }
 },
 "nbformat": 4,
 "nbformat_minor": 2
}
