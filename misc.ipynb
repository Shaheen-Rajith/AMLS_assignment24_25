{
 "cells": [
  {
   "cell_type": "code",
   "execution_count": 9,
   "metadata": {},
   "outputs": [],
   "source": [
    "import medmnist\n",
    "from medmnist import INFO\n",
    "import matplotlib.pyplot as plt\n",
    "import numpy as np\n",
    "import pandas as pd\n",
    "import os"
   ]
  },
  {
   "cell_type": "code",
   "execution_count": 10,
   "metadata": {},
   "outputs": [],
   "source": [
    "def Download_Datasets():\n",
    "    \"\"\"\n",
    "    This function downloads the BreastMNIST and BloodMNIST datasets\n",
    "    and saves them as mentioned in the Assignment Handout in the following directory:\n",
    "    Datasets/BreastMNIST/breastmnist.npz\n",
    "    Datasets/BloodMNIST/bloodmnist.npz\n",
    "    \"\"\"\n",
    "    datasets = {\n",
    "        'BreastMNIST': 'breastmnist',\n",
    "        'BloodMNIST': 'bloodmnist'\n",
    "        }\n",
    "    root = 'Datasets'\n",
    "    os.makedirs(root, exist_ok = True)\n",
    "\n",
    "    for f_name , d_name in datasets.items():\n",
    "        dir = os.path.join(root, f_name)\n",
    "        os.makedirs(dir, exist_ok = True)\n",
    "        print(f'Downloading {f_name} Dataset')\n",
    "        info = INFO[d_name]\n",
    "        DatasetClass = getattr(medmnist, info['python_class'])\n",
    "        train = DatasetClass(root = dir, split = 'train', download = True)\n",
    "        val = DatasetClass(root = dir, split = 'val', download = True)\n",
    "        test = DatasetClass(root = dir, split = 'test', download = True)\n",
    "        print(f'Download Complete')\n",
    "        return train, val, test"
   ]
  },
  {
   "cell_type": "code",
   "execution_count": 11,
   "metadata": {},
   "outputs": [
    {
     "name": "stdout",
     "output_type": "stream",
     "text": [
      "Downloading BreastMNIST Dataset\n",
      "Download Complete\n"
     ]
    }
   ],
   "source": [
    "tr,vl,tt = Download_Datasets()"
   ]
  },
  {
   "cell_type": "code",
   "execution_count": 12,
   "metadata": {},
   "outputs": [],
   "source": [
    "def PreProcess_SK(task):\n",
    "    \"\"\"\n",
    "    This function uses the previously downloading npz Dataset files, and does\n",
    "    needed Data Preprocessing steps for Sci-Kit learn models like decision trees,\n",
    "    bagged trees, the steps include normalization (0-1) and flattening (28x28 -> 784)\n",
    "    \"\"\"\n",
    "    if task.upper() == 'A':\n",
    "        path = os.path.join('Datasets','BreastMNIST','breastmnist.npz')\n",
    "    elif task.upper() == 'B':\n",
    "        path = os.path.join('Datasets','BloodMNIST','bloodmnist.npz')\n",
    "    else:\n",
    "        return\n",
    "    \n",
    "    data = np.load(path)\n",
    "\n",
    "    X_train = data[\"train_images\"].astype(np.float32) / 255.0\n",
    "    X_val = data[\"val_images\"].astype(np.float32) / 255.0\n",
    "    X_test = data[\"test_images\"].astype(np.float32) / 255.0\n",
    "    \n",
    "    X_train = X_train.reshape(X_train.shape[0], -1)\n",
    "    X_val = X_val.reshape(X_val.shape[0], -1)\n",
    "    X_test = X_test.reshape(X_test.shape[0], -1)\n",
    "\n",
    "    y_train = data[\"train_labels\"].squeeze().astype(np.int64)\n",
    "    y_val = data[\"val_labels\"].squeeze().astype(np.int64)\n",
    "    y_test = data[\"test_labels\"].squeeze().astype(np.int64)\n",
    "\n",
    "    return X_train, X_val, X_test, y_train, y_val, y_test"
   ]
  },
  {
   "cell_type": "code",
   "execution_count": 13,
   "metadata": {},
   "outputs": [],
   "source": [
    "a,b,c,d,e,f = PreProcess_SK(\"A\")"
   ]
  },
  {
   "cell_type": "code",
   "execution_count": 23,
   "metadata": {},
   "outputs": [
    {
     "data": {
      "text/plain": [
       "(156,)"
      ]
     },
     "execution_count": 23,
     "metadata": {},
     "output_type": "execute_result"
    }
   ],
   "source": [
    "f.shape"
   ]
  },
  {
   "cell_type": "code",
   "execution_count": null,
   "metadata": {},
   "outputs": [],
   "source": [
    "def Random_Sample_Visual(x,y,loader,name):\n",
    "    fig , axs = plt.subplots(x,y)\n",
    "    images, labels = next(iter(loader))\n",
    "    images, labels = next(iter(loader))\n",
    "    for i in range(x):\n",
    "        for j in range(y):\n",
    "            with torch.no_grad():\n",
    "                index = torch.randint(len(images) , size=(1,)).item()\n",
    "                img = images[index]\n",
    "                label = labels[index]\n",
    "                axs[i][j].imshow(((img+1)/2).squeeze().permute(1, 2, 0), cmap='binary')\n",
    "                axs[i][j].set_title(f'{label}')\n",
    "                axs[i][j].set_xticks([])\n",
    "                axs[i][j].set_yticks([])\n",
    "    plt.suptitle('Random Samples from Testing Data with Prediction')\n",
    "    fig.tight_layout()\n",
    "    dir = os.path.join('Results','name')\n",
    "    plt.savefig(dir)"
   ]
  }
 ],
 "metadata": {
  "kernelspec": {
   "display_name": "AMLS",
   "language": "python",
   "name": "python3"
  },
  "language_info": {
   "codemirror_mode": {
    "name": "ipython",
    "version": 3
   },
   "file_extension": ".py",
   "mimetype": "text/x-python",
   "name": "python",
   "nbconvert_exporter": "python",
   "pygments_lexer": "ipython3",
   "version": "3.11.13"
  }
 },
 "nbformat": 4,
 "nbformat_minor": 2
}
